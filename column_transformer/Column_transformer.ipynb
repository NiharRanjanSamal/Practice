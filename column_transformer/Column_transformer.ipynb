{
 "cells": [
  {
   "cell_type": "code",
   "execution_count": 202,
   "id": "7d80c32b-ea9b-4c59-86d0-f155b12d8f9e",
   "metadata": {},
   "outputs": [],
   "source": [
    "import pandas as pd\n",
    "import numpy as np\n"
   ]
  },
  {
   "cell_type": "code",
   "execution_count": 204,
   "id": "4fc8d939-2816-45b8-ad45-e7858e6d93dd",
   "metadata": {},
   "outputs": [],
   "source": [
    "df= pd.read_csv(\"cars.csv\")"
   ]
  },
  {
   "cell_type": "code",
   "execution_count": 206,
   "id": "48e04cca-0c5c-41fa-af5b-4f61d14c63b9",
   "metadata": {},
   "outputs": [
    {
     "data": {
      "text/html": [
       "<div>\n",
       "<style scoped>\n",
       "    .dataframe tbody tr th:only-of-type {\n",
       "        vertical-align: middle;\n",
       "    }\n",
       "\n",
       "    .dataframe tbody tr th {\n",
       "        vertical-align: top;\n",
       "    }\n",
       "\n",
       "    .dataframe thead th {\n",
       "        text-align: right;\n",
       "    }\n",
       "</style>\n",
       "<table border=\"1\" class=\"dataframe\">\n",
       "  <thead>\n",
       "    <tr style=\"text-align: right;\">\n",
       "      <th></th>\n",
       "      <th>brand</th>\n",
       "      <th>km_driven</th>\n",
       "      <th>fuel</th>\n",
       "      <th>owner</th>\n",
       "      <th>selling_price</th>\n",
       "    </tr>\n",
       "  </thead>\n",
       "  <tbody>\n",
       "    <tr>\n",
       "      <th>0</th>\n",
       "      <td>Maruti</td>\n",
       "      <td>145500</td>\n",
       "      <td>Diesel</td>\n",
       "      <td>First Owner</td>\n",
       "      <td>450000</td>\n",
       "    </tr>\n",
       "    <tr>\n",
       "      <th>1</th>\n",
       "      <td>Skoda</td>\n",
       "      <td>120000</td>\n",
       "      <td>Diesel</td>\n",
       "      <td>Second Owner</td>\n",
       "      <td>370000</td>\n",
       "    </tr>\n",
       "    <tr>\n",
       "      <th>2</th>\n",
       "      <td>Honda</td>\n",
       "      <td>140000</td>\n",
       "      <td>Petrol</td>\n",
       "      <td>Third Owner</td>\n",
       "      <td>158000</td>\n",
       "    </tr>\n",
       "    <tr>\n",
       "      <th>3</th>\n",
       "      <td>Hyundai</td>\n",
       "      <td>127000</td>\n",
       "      <td>Diesel</td>\n",
       "      <td>First Owner</td>\n",
       "      <td>225000</td>\n",
       "    </tr>\n",
       "  </tbody>\n",
       "</table>\n",
       "</div>"
      ],
      "text/plain": [
       "     brand  km_driven    fuel         owner  selling_price\n",
       "0   Maruti     145500  Diesel   First Owner         450000\n",
       "1    Skoda     120000  Diesel  Second Owner         370000\n",
       "2    Honda     140000  Petrol   Third Owner         158000\n",
       "3  Hyundai     127000  Diesel   First Owner         225000"
      ]
     },
     "execution_count": 206,
     "metadata": {},
     "output_type": "execute_result"
    }
   ],
   "source": [
    "df.head(4)"
   ]
  },
  {
   "cell_type": "code",
   "execution_count": 208,
   "id": "0ac44f38-7a8b-4471-96df-cad537bb3a0e",
   "metadata": {},
   "outputs": [
    {
     "data": {
      "text/plain": [
       "owner\n",
       "First Owner             5289\n",
       "Second Owner            2105\n",
       "Third Owner              555\n",
       "Fourth & Above Owner     174\n",
       "Test Drive Car             5\n",
       "Name: count, dtype: int64"
      ]
     },
     "execution_count": 208,
     "metadata": {},
     "output_type": "execute_result"
    }
   ],
   "source": [
    "df['owner'].value_counts()"
   ]
  },
  {
   "cell_type": "code",
   "execution_count": 210,
   "id": "4b6245f8-873a-4985-8d03-9361c624d593",
   "metadata": {},
   "outputs": [
    {
     "data": {
      "text/plain": [
       "brand            0\n",
       "km_driven        0\n",
       "fuel             0\n",
       "owner            0\n",
       "selling_price    0\n",
       "dtype: int64"
      ]
     },
     "execution_count": 210,
     "metadata": {},
     "output_type": "execute_result"
    }
   ],
   "source": [
    "df.isnull().sum()"
   ]
  },
  {
   "cell_type": "code",
   "execution_count": 212,
   "id": "f7c39ca0-f70f-4eef-8ec1-94c2211107eb",
   "metadata": {},
   "outputs": [
    {
     "data": {
      "text/plain": [
       "brand\n",
       "Maruti           2448\n",
       "Hyundai          1415\n",
       "Mahindra          772\n",
       "Tata              734\n",
       "Toyota            488\n",
       "Honda             467\n",
       "Ford              397\n",
       "Chevrolet         230\n",
       "Renault           228\n",
       "Volkswagen        186\n",
       "BMW               120\n",
       "Skoda             105\n",
       "Nissan             81\n",
       "Jaguar             71\n",
       "Volvo              67\n",
       "Datsun             65\n",
       "Mercedes-Benz      54\n",
       "Fiat               47\n",
       "Audi               40\n",
       "Lexus              34\n",
       "Jeep               31\n",
       "Mitsubishi         14\n",
       "Force               6\n",
       "Land                6\n",
       "Isuzu               5\n",
       "Kia                 4\n",
       "Ambassador          4\n",
       "Daewoo              3\n",
       "MG                  3\n",
       "Ashok               1\n",
       "Opel                1\n",
       "Peugeot             1\n",
       "Name: count, dtype: int64"
      ]
     },
     "execution_count": 212,
     "metadata": {},
     "output_type": "execute_result"
    }
   ],
   "source": [
    "df[\"brand\"].value_counts()"
   ]
  },
  {
   "cell_type": "code",
   "execution_count": 214,
   "id": "124971ae-0ff3-4b27-baf5-4e7842dbd090",
   "metadata": {},
   "outputs": [
    {
     "name": "stdout",
     "output_type": "stream",
     "text": [
      "['Maruti', 'Hyundai', 'Mahindra', 'Tata', 'Toyota', 'Honda', 'Ford', 'Chevrolet', 'Renault', 'Volkswagen', 'BMW', 'Skoda']\n"
     ]
    }
   ],
   "source": [
    "brand_count= df['brand'].value_counts()\n",
    "valid_brand= brand_count[brand_count>100].index.tolist()\n",
    "print(valid_brand)"
   ]
  },
  {
   "cell_type": "code",
   "execution_count": 216,
   "id": "f2617f6c-6ae0-4cb0-b02b-42b76313070c",
   "metadata": {},
   "outputs": [],
   "source": [
    "df['brand'] = df['brand'].apply(lambda x:x if x in valid_brand else 'others' )\n",
    "# categories_with_others = valid_brand + ['others']"
   ]
  },
  {
   "cell_type": "code",
   "execution_count": 218,
   "id": "1c485bde-a397-4f11-98a0-4e8dd4cc6851",
   "metadata": {},
   "outputs": [],
   "source": [
    "from sklearn.model_selection import train_test_split\n",
    "x_train,x_test,y_train,y_test = train_test_split(df.drop(columns=\"selling_price\"), df[\"selling_price\"], test_size=0.2)"
   ]
  },
  {
   "cell_type": "code",
   "execution_count": 220,
   "id": "7545c54e-6cab-4779-9550-df2ed0043ddd",
   "metadata": {},
   "outputs": [
    {
     "data": {
      "text/html": [
       "<div>\n",
       "<style scoped>\n",
       "    .dataframe tbody tr th:only-of-type {\n",
       "        vertical-align: middle;\n",
       "    }\n",
       "\n",
       "    .dataframe tbody tr th {\n",
       "        vertical-align: top;\n",
       "    }\n",
       "\n",
       "    .dataframe thead th {\n",
       "        text-align: right;\n",
       "    }\n",
       "</style>\n",
       "<table border=\"1\" class=\"dataframe\">\n",
       "  <thead>\n",
       "    <tr style=\"text-align: right;\">\n",
       "      <th></th>\n",
       "      <th>brand</th>\n",
       "      <th>km_driven</th>\n",
       "      <th>fuel</th>\n",
       "      <th>owner</th>\n",
       "    </tr>\n",
       "  </thead>\n",
       "  <tbody>\n",
       "    <tr>\n",
       "      <th>3867</th>\n",
       "      <td>Maruti</td>\n",
       "      <td>50000</td>\n",
       "      <td>Petrol</td>\n",
       "      <td>Second Owner</td>\n",
       "    </tr>\n",
       "    <tr>\n",
       "      <th>5239</th>\n",
       "      <td>Maruti</td>\n",
       "      <td>20000</td>\n",
       "      <td>Petrol</td>\n",
       "      <td>First Owner</td>\n",
       "    </tr>\n",
       "    <tr>\n",
       "      <th>7686</th>\n",
       "      <td>Maruti</td>\n",
       "      <td>60000</td>\n",
       "      <td>Diesel</td>\n",
       "      <td>First Owner</td>\n",
       "    </tr>\n",
       "    <tr>\n",
       "      <th>2570</th>\n",
       "      <td>Mahindra</td>\n",
       "      <td>14000</td>\n",
       "      <td>Diesel</td>\n",
       "      <td>First Owner</td>\n",
       "    </tr>\n",
       "    <tr>\n",
       "      <th>5718</th>\n",
       "      <td>Maruti</td>\n",
       "      <td>120000</td>\n",
       "      <td>Petrol</td>\n",
       "      <td>First Owner</td>\n",
       "    </tr>\n",
       "    <tr>\n",
       "      <th>...</th>\n",
       "      <td>...</td>\n",
       "      <td>...</td>\n",
       "      <td>...</td>\n",
       "      <td>...</td>\n",
       "    </tr>\n",
       "    <tr>\n",
       "      <th>2292</th>\n",
       "      <td>Mahindra</td>\n",
       "      <td>70000</td>\n",
       "      <td>Diesel</td>\n",
       "      <td>First Owner</td>\n",
       "    </tr>\n",
       "    <tr>\n",
       "      <th>744</th>\n",
       "      <td>Mahindra</td>\n",
       "      <td>80000</td>\n",
       "      <td>Diesel</td>\n",
       "      <td>Third Owner</td>\n",
       "    </tr>\n",
       "    <tr>\n",
       "      <th>6503</th>\n",
       "      <td>Hyundai</td>\n",
       "      <td>70000</td>\n",
       "      <td>Diesel</td>\n",
       "      <td>Second Owner</td>\n",
       "    </tr>\n",
       "    <tr>\n",
       "      <th>3150</th>\n",
       "      <td>Hyundai</td>\n",
       "      <td>35000</td>\n",
       "      <td>Petrol</td>\n",
       "      <td>Second Owner</td>\n",
       "    </tr>\n",
       "    <tr>\n",
       "      <th>3813</th>\n",
       "      <td>Maruti</td>\n",
       "      <td>160000</td>\n",
       "      <td>Diesel</td>\n",
       "      <td>Second Owner</td>\n",
       "    </tr>\n",
       "  </tbody>\n",
       "</table>\n",
       "<p>6502 rows × 4 columns</p>\n",
       "</div>"
      ],
      "text/plain": [
       "         brand  km_driven    fuel         owner\n",
       "3867    Maruti      50000  Petrol  Second Owner\n",
       "5239    Maruti      20000  Petrol   First Owner\n",
       "7686    Maruti      60000  Diesel   First Owner\n",
       "2570  Mahindra      14000  Diesel   First Owner\n",
       "5718    Maruti     120000  Petrol   First Owner\n",
       "...        ...        ...     ...           ...\n",
       "2292  Mahindra      70000  Diesel   First Owner\n",
       "744   Mahindra      80000  Diesel   Third Owner\n",
       "6503   Hyundai      70000  Diesel  Second Owner\n",
       "3150   Hyundai      35000  Petrol  Second Owner\n",
       "3813    Maruti     160000  Diesel  Second Owner\n",
       "\n",
       "[6502 rows x 4 columns]"
      ]
     },
     "execution_count": 220,
     "metadata": {},
     "output_type": "execute_result"
    }
   ],
   "source": [
    "x_train"
   ]
  },
  {
   "cell_type": "code",
   "execution_count": 222,
   "id": "91df9732-5074-4730-bdd1-005657afd302",
   "metadata": {},
   "outputs": [],
   "source": [
    "# brand_count= df['brand'].value_counts()\n",
    "# valid_brand= brand_count[brand_count>100].index.tolist()\n",
    "# print(valid_brand)"
   ]
  },
  {
   "cell_type": "code",
   "execution_count": 224,
   "id": "d9a570b5-2619-4f91-8a38-cd58524326fc",
   "metadata": {},
   "outputs": [],
   "source": [
    "# x_train['brand'] = x_train['brand'].apply(lambda x:x if x in valid_brand else 'others' )\n",
    "# categories_with_others = valid_brand + ['others']"
   ]
  },
  {
   "cell_type": "code",
   "execution_count": 243,
   "id": "661c5cb1-6d84-45bc-8f35-7b443d40cd5f",
   "metadata": {},
   "outputs": [],
   "source": [
    "from sklearn.preprocessing import OrdinalEncoder, OneHotEncoder\n",
    "from sklearn.compose import ColumnTransformer\n",
    "transformer= ColumnTransformer(transformers=[\n",
    "                ('tns1',OrdinalEncoder(categories=[['Test Drive Car','Fourth & Above Owner','Third Owner','Second Owner','First Owner']]),['owner']),\n",
    "                (\"tns2\",OneHotEncoder(categories=[categories_with_others],sparse_output=False,drop='first',handle_unknown='ignore'),['brand']),\n",
    "                ('tns3',OneHotEncoder(sparse_output=False,drop='first'),['fuel'])\n",
    "],remainder='passthrough')"
   ]
  },
  {
   "cell_type": "code",
   "execution_count": 247,
   "id": "d49f1757-7270-4d3b-87b5-2ee742054beb",
   "metadata": {},
   "outputs": [
    {
     "data": {
      "text/html": [
       "<div>\n",
       "<style scoped>\n",
       "    .dataframe tbody tr th:only-of-type {\n",
       "        vertical-align: middle;\n",
       "    }\n",
       "\n",
       "    .dataframe tbody tr th {\n",
       "        vertical-align: top;\n",
       "    }\n",
       "\n",
       "    .dataframe thead th {\n",
       "        text-align: right;\n",
       "    }\n",
       "</style>\n",
       "<table border=\"1\" class=\"dataframe\">\n",
       "  <thead>\n",
       "    <tr style=\"text-align: right;\">\n",
       "      <th></th>\n",
       "      <th>tns1__owner</th>\n",
       "      <th>tns2__brand_Hyundai</th>\n",
       "      <th>tns2__brand_Mahindra</th>\n",
       "      <th>tns2__brand_Tata</th>\n",
       "      <th>tns2__brand_Toyota</th>\n",
       "      <th>tns2__brand_Honda</th>\n",
       "      <th>tns2__brand_Ford</th>\n",
       "      <th>tns2__brand_Chevrolet</th>\n",
       "      <th>tns2__brand_Renault</th>\n",
       "      <th>tns2__brand_Volkswagen</th>\n",
       "      <th>tns2__brand_BMW</th>\n",
       "      <th>tns2__brand_Skoda</th>\n",
       "      <th>tns2__brand_others</th>\n",
       "      <th>tns3__fuel_Diesel</th>\n",
       "      <th>tns3__fuel_LPG</th>\n",
       "      <th>tns3__fuel_Petrol</th>\n",
       "      <th>remainder__km_driven</th>\n",
       "    </tr>\n",
       "  </thead>\n",
       "  <tbody>\n",
       "    <tr>\n",
       "      <th>6296</th>\n",
       "      <td>3.0</td>\n",
       "      <td>0.0</td>\n",
       "      <td>0.0</td>\n",
       "      <td>0.0</td>\n",
       "      <td>0.0</td>\n",
       "      <td>0.0</td>\n",
       "      <td>0.0</td>\n",
       "      <td>0.0</td>\n",
       "      <td>0.0</td>\n",
       "      <td>0.0</td>\n",
       "      <td>0.0</td>\n",
       "      <td>0.0</td>\n",
       "      <td>0.0</td>\n",
       "      <td>1.0</td>\n",
       "      <td>0.0</td>\n",
       "      <td>0.0</td>\n",
       "      <td>100000.0</td>\n",
       "    </tr>\n",
       "    <tr>\n",
       "      <th>430</th>\n",
       "      <td>4.0</td>\n",
       "      <td>0.0</td>\n",
       "      <td>0.0</td>\n",
       "      <td>0.0</td>\n",
       "      <td>0.0</td>\n",
       "      <td>0.0</td>\n",
       "      <td>0.0</td>\n",
       "      <td>0.0</td>\n",
       "      <td>0.0</td>\n",
       "      <td>0.0</td>\n",
       "      <td>0.0</td>\n",
       "      <td>0.0</td>\n",
       "      <td>0.0</td>\n",
       "      <td>1.0</td>\n",
       "      <td>0.0</td>\n",
       "      <td>0.0</td>\n",
       "      <td>28832.0</td>\n",
       "    </tr>\n",
       "    <tr>\n",
       "      <th>4660</th>\n",
       "      <td>4.0</td>\n",
       "      <td>0.0</td>\n",
       "      <td>0.0</td>\n",
       "      <td>0.0</td>\n",
       "      <td>0.0</td>\n",
       "      <td>0.0</td>\n",
       "      <td>0.0</td>\n",
       "      <td>0.0</td>\n",
       "      <td>0.0</td>\n",
       "      <td>0.0</td>\n",
       "      <td>0.0</td>\n",
       "      <td>0.0</td>\n",
       "      <td>1.0</td>\n",
       "      <td>1.0</td>\n",
       "      <td>0.0</td>\n",
       "      <td>0.0</td>\n",
       "      <td>45000.0</td>\n",
       "    </tr>\n",
       "    <tr>\n",
       "      <th>1716</th>\n",
       "      <td>3.0</td>\n",
       "      <td>0.0</td>\n",
       "      <td>1.0</td>\n",
       "      <td>0.0</td>\n",
       "      <td>0.0</td>\n",
       "      <td>0.0</td>\n",
       "      <td>0.0</td>\n",
       "      <td>0.0</td>\n",
       "      <td>0.0</td>\n",
       "      <td>0.0</td>\n",
       "      <td>0.0</td>\n",
       "      <td>0.0</td>\n",
       "      <td>0.0</td>\n",
       "      <td>1.0</td>\n",
       "      <td>0.0</td>\n",
       "      <td>0.0</td>\n",
       "      <td>70000.0</td>\n",
       "    </tr>\n",
       "    <tr>\n",
       "      <th>3043</th>\n",
       "      <td>4.0</td>\n",
       "      <td>0.0</td>\n",
       "      <td>0.0</td>\n",
       "      <td>0.0</td>\n",
       "      <td>0.0</td>\n",
       "      <td>0.0</td>\n",
       "      <td>0.0</td>\n",
       "      <td>0.0</td>\n",
       "      <td>0.0</td>\n",
       "      <td>0.0</td>\n",
       "      <td>0.0</td>\n",
       "      <td>0.0</td>\n",
       "      <td>0.0</td>\n",
       "      <td>0.0</td>\n",
       "      <td>0.0</td>\n",
       "      <td>1.0</td>\n",
       "      <td>110000.0</td>\n",
       "    </tr>\n",
       "  </tbody>\n",
       "</table>\n",
       "</div>"
      ],
      "text/plain": [
       "      tns1__owner  tns2__brand_Hyundai  tns2__brand_Mahindra  \\\n",
       "6296          3.0                  0.0                   0.0   \n",
       "430           4.0                  0.0                   0.0   \n",
       "4660          4.0                  0.0                   0.0   \n",
       "1716          3.0                  0.0                   1.0   \n",
       "3043          4.0                  0.0                   0.0   \n",
       "\n",
       "      tns2__brand_Tata  tns2__brand_Toyota  tns2__brand_Honda  \\\n",
       "6296               0.0                 0.0                0.0   \n",
       "430                0.0                 0.0                0.0   \n",
       "4660               0.0                 0.0                0.0   \n",
       "1716               0.0                 0.0                0.0   \n",
       "3043               0.0                 0.0                0.0   \n",
       "\n",
       "      tns2__brand_Ford  tns2__brand_Chevrolet  tns2__brand_Renault  \\\n",
       "6296               0.0                    0.0                  0.0   \n",
       "430                0.0                    0.0                  0.0   \n",
       "4660               0.0                    0.0                  0.0   \n",
       "1716               0.0                    0.0                  0.0   \n",
       "3043               0.0                    0.0                  0.0   \n",
       "\n",
       "      tns2__brand_Volkswagen  tns2__brand_BMW  tns2__brand_Skoda  \\\n",
       "6296                     0.0              0.0                0.0   \n",
       "430                      0.0              0.0                0.0   \n",
       "4660                     0.0              0.0                0.0   \n",
       "1716                     0.0              0.0                0.0   \n",
       "3043                     0.0              0.0                0.0   \n",
       "\n",
       "      tns2__brand_others  tns3__fuel_Diesel  tns3__fuel_LPG  \\\n",
       "6296                 0.0                1.0             0.0   \n",
       "430                  0.0                1.0             0.0   \n",
       "4660                 1.0                1.0             0.0   \n",
       "1716                 0.0                1.0             0.0   \n",
       "3043                 0.0                0.0             0.0   \n",
       "\n",
       "      tns3__fuel_Petrol  remainder__km_driven  \n",
       "6296                0.0              100000.0  \n",
       "430                 0.0               28832.0  \n",
       "4660                0.0               45000.0  \n",
       "1716                0.0               70000.0  \n",
       "3043                1.0              110000.0  "
      ]
     },
     "execution_count": 247,
     "metadata": {},
     "output_type": "execute_result"
    }
   ],
   "source": [
    "x_train_transformed=transformer.fit_transform(x_train)\n",
    "x_train_view= pd.DataFrame(x_train_transformed, columns= transformer.get_feature_names_out())\n",
    "x_train_view.sample(5)"
   ]
  },
  {
   "cell_type": "code",
   "execution_count": 230,
   "id": "dd3fbad5-00cb-48ac-b461-09d66c8501d7",
   "metadata": {},
   "outputs": [
    {
     "data": {
      "text/plain": [
       "(1626, 17)"
      ]
     },
     "execution_count": 230,
     "metadata": {},
     "output_type": "execute_result"
    }
   ],
   "source": [
    "transformer.fit_transform(x_test).shape"
   ]
  },
  {
   "cell_type": "code",
   "execution_count": null,
   "id": "23b75a25-3c48-4caa-a677-7dc2a437c032",
   "metadata": {},
   "outputs": [],
   "source": []
  },
  {
   "cell_type": "code",
   "execution_count": null,
   "id": "c5d921e2-35a7-4fcc-9c63-3a290f22f94d",
   "metadata": {},
   "outputs": [],
   "source": []
  }
 ],
 "metadata": {
  "kernelspec": {
   "display_name": "Python 3 (ipykernel)",
   "language": "python",
   "name": "python3"
  },
  "language_info": {
   "codemirror_mode": {
    "name": "ipython",
    "version": 3
   },
   "file_extension": ".py",
   "mimetype": "text/x-python",
   "name": "python",
   "nbconvert_exporter": "python",
   "pygments_lexer": "ipython3",
   "version": "3.12.4"
  }
 },
 "nbformat": 4,
 "nbformat_minor": 5
}
